{
 "cells": [
  {
   "cell_type": "code",
   "execution_count": 70,
   "metadata": {},
   "outputs": [],
   "source": [
    "import os   # for access to current usernam\n",
    "import glob # for access to all files in current directory\n",
    "\n",
    "user=os.getlogin() # get current username\n",
    "result_file=[]\n",
    "result_data=[]\n",
    "content_list=[]\n",
    "data=[]\n",
    "receive_packet=[]\n",
    "send_packet=[]\n",
    "packet_delay=0"
   ]
  },
  {
   "cell_type": "code",
   "execution_count": 71,
   "metadata": {},
   "outputs": [],
   "source": [
    "# absolute path to search all text files inside a specific folder\n",
    "path = r'/home/'+user+'/LabWork/*.txt'\n",
    "files = glob.glob(path)\n",
    "for i in range (len(files)):\n",
    "    #print(files[i])\n",
    "    result_file.append(files[i])\n"
   ]
  },
  {
   "cell_type": "code",
   "execution_count": 74,
   "metadata": {},
   "outputs": [],
   "source": [
    "#save result file in a list\n",
    "#result_file.sort()\n",
    "#for i in range (len(result_file)):\n",
    "   # print(result_file[i])"
   ]
  },
  {
   "cell_type": "code",
   "execution_count": 75,
   "metadata": {},
   "outputs": [
    {
     "name": "stdout",
     "output_type": "stream",
     "text": [
      "[['CTR_Sending_Normal_To_[aaaa:0000:0000:0000:c30c:0000:0000:0003]_mid_39742_lenght_19_TIME:101670672_ID:2_Time2:1813\\n', 'CTR_Receiving_1_From_[aaaa:0000:0000:0000:c30c:0000:0000:0002]_mid_0_lenght_19_TIME:101696826_ID:3_Time2:101690'], ['CTR_Sending_Normal_To_[aaaa:0000:0000:0000:c30c:0000:0000:0003]_mid_39742_lenght_19_TIME:101670672_ID:2_Time2:1813\\n', 'CTR_Receiving_1_From_[aaaa:0000:0000:0000:c30c:0000:0000:0002]_mid_0_lenght_19_TIME:101696826_ID:3_Time2:101690\\n']]\n"
     ]
    }
   ],
   "source": [
    "for i in range (len(result_file)):\n",
    "    content_list = open(result_file[i],'r')\n",
    "    line=content_list.readlines()\n",
    "    result_data.append(line)\n",
    "    #result_data.append(content_list.readlines())\n",
    "print(result_data)\n",
    "#print(result_data)"
   ]
  },
  {
   "cell_type": "code",
   "execution_count": null,
   "metadata": {},
   "outputs": [
    {
     "name": "stdout",
     "output_type": "stream",
     "text": [
      "List lenght  0\n"
     ]
    }
   ],
   "source": [
    "print(\"List lenght \", len(content_list))"
   ]
  },
  {
   "cell_type": "code",
   "execution_count": null,
   "metadata": {},
   "outputs": [],
   "source": [
    "#[i  .split('_', 12)[0] for i in content_list]\n",
    "for i in content_list :\n",
    "    data.append(i.split('_', 12)[0])\n",
    "    print(data[i])\n",
    "    print(i.split('_', 12)[0])\n",
    "    if i.split('_', 12)[0] == 'CTR': \n",
    "        receive_packet.append(i)\n",
    "#print(\"Receive packet list: \", receive_packet)"
   ]
  }
 ],
 "metadata": {
  "kernelspec": {
   "display_name": "Python 3.10.4 64-bit",
   "language": "python",
   "name": "python3"
  },
  "language_info": {
   "codemirror_mode": {
    "name": "ipython",
    "version": 3
   },
   "file_extension": ".py",
   "mimetype": "text/x-python",
   "name": "python",
   "nbconvert_exporter": "python",
   "pygments_lexer": "ipython3",
   "version": "3.10.4"
  },
  "orig_nbformat": 4,
  "vscode": {
   "interpreter": {
    "hash": "916dbcbb3f70747c44a77c7bcd40155683ae19c65e1c03b4aa3499c5328201f1"
   }
  }
 },
 "nbformat": 4,
 "nbformat_minor": 2
}
